{
 "cells": [
  {
   "cell_type": "markdown",
   "metadata": {},
   "source": [
    "#### Q1. What are the three measures of central tendency?"
   ]
  },
  {
   "cell_type": "markdown",
   "metadata": {},
   "source": [
    "- Measures of Central Tendency:\n",
    "\n",
    "1. Mean: The mean is the arithmetic average of a set of values. It is calculated by summing all the values in the dataset and dividing by the total number of observations. The mean provides a measure of the \"typical\" value in the dataset.\n",
    "\n",
    "2. Median: The median is the middle value in an ordered dataset. It divides the dataset into two equal halves. If the dataset has an odd number of observations, the median is the middle value. If it has an even number of observations, the median is the average of the two middle values. The median is less sensitive to extreme values than the mean and provides a measure of the central tendency.\n",
    "\n",
    "3. Mode: The mode is the value or values that occur most frequently in a dataset. It represents the most common observation(s) in the dataset. The mode is useful for categorical or discrete data where it helps identify the most prevalent category."
   ]
  },
  {
   "cell_type": "markdown",
   "metadata": {},
   "source": [
    "#### Q2. What is the difference between the mean, median, and mode? How are they used to measure the central tendency of a dataset?"
   ]
  },
  {
   "cell_type": "markdown",
   "metadata": {},
   "source": [
    "Difference between mean, mode, and median:\n",
    "- Mean : It is nothing but average of data.\n",
    "- Median : It is central element of data.\n",
    "- Mode : It is high frequent element.\n",
    "1. Mean:\n",
    "The mean is calculated by summing up all the values in a dataset and dividing by the total number of observations. It is also referred to as the arithmetic average. The mean considers every value in the dataset and is influenced by extreme values. It is commonly used for datasets with a continuous numerical scale.\n",
    "> Example: Consider the dataset [2, 4, 5, 6, 8]. The sum of all values is 25, and there are five observations. Thus, the mean is 25/5 = 5.\n",
    "\n",
    "2. Median:\n",
    "The median is the middle value in an ordered dataset. It divides the dataset into two equal halves. If the dataset has an odd number of observations, the median is the middle value. If it has an even number of observations, the median is the average of the two middle values. The median is less sensitive to extreme values and is commonly used for skewed or non-normally distributed datasets.\n",
    "> Example: Consider the dataset [2, 4, 5, 6, 8]. The median is 5 because it is the middle value.\n",
    "3. Mode:\n",
    "The mode is the value or values that occur most frequently in a dataset. It represents the most common observation(s) in the dataset. The mode is useful for categorical or discrete data, but it can also be applied to numerical data. A dataset can have multiple modes (multimodal) or no mode (no value occurs more frequently).\n",
    "> Example: Consider the dataset [2, 4, 5, 6, 8, 8]. The mode is 8 because it occurs more frequently than any other value."
   ]
  },
  {
   "cell_type": "markdown",
   "metadata": {},
   "source": [
    "#### Q3. Measure the three measures of central tendency for the given height data:"
   ]
  },
  {
   "cell_type": "code",
   "execution_count": 14,
   "metadata": {},
   "outputs": [],
   "source": [
    "import statistics as sts\n",
    "heights = [178,177,176,177,178.2,178,175,179,180,175,178.9,176.2,177,172.5,178,176.5]"
   ]
  },
  {
   "cell_type": "code",
   "execution_count": 15,
   "metadata": {},
   "outputs": [
    {
     "data": {
      "text/plain": [
       "178"
      ]
     },
     "execution_count": 15,
     "metadata": {},
     "output_type": "execute_result"
    }
   ],
   "source": [
    "# Mode\n",
    "sts.mode(heights)"
   ]
  },
  {
   "cell_type": "code",
   "execution_count": 16,
   "metadata": {},
   "outputs": [
    {
     "data": {
      "text/plain": [
       "177.0"
      ]
     },
     "execution_count": 16,
     "metadata": {},
     "output_type": "execute_result"
    }
   ],
   "source": [
    "# Median\n",
    "sts.median(heights)"
   ]
  },
  {
   "cell_type": "code",
   "execution_count": 17,
   "metadata": {},
   "outputs": [
    {
     "data": {
      "text/plain": [
       "177.01875"
      ]
     },
     "execution_count": 17,
     "metadata": {},
     "output_type": "execute_result"
    }
   ],
   "source": [
    "# mean\n",
    "sts.mean(heights)"
   ]
  },
  {
   "cell_type": "markdown",
   "metadata": {},
   "source": [
    "#### Q4. Find the standard deviation for the given data:"
   ]
  },
  {
   "cell_type": "code",
   "execution_count": 25,
   "metadata": {},
   "outputs": [
    {
     "data": {
      "text/plain": [
       "1.8472389305844188"
      ]
     },
     "execution_count": 25,
     "metadata": {},
     "output_type": "execute_result"
    }
   ],
   "source": [
    "# standard deviation\n",
    "data = [178,177,176,177,178.2,178,175,179,180,175,178.9,176.2,177,172.5,178,176.5]\n",
    "\n",
    "sts.stdev(heights)"
   ]
  },
  {
   "cell_type": "markdown",
   "metadata": {},
   "source": [
    "#### Q5. How are measures of dispersion such as range, variance, and standard deviation used to describe the spread of a dataset? Provide an example."
   ]
  },
  {
   "cell_type": "markdown",
   "metadata": {},
   "source": [
    "Measures of dispersion, such as range, variance, and standard deviation, are used to quantify the spread or variability of a dataset. They provide insights into how the data points are distributed around the central tendency measures (such as the mean or median). Here's an explanation of how these measures are used to describe the spread of a dataset:\n",
    "1. Range:\n",
    "The range is the simplest measure of dispersion. It represents the difference between the maximum and minimum values in a dataset. The range provides a basic understanding of the spread, but it is sensitive to extreme values and doesn't capture the full distribution of data.\n",
    "> Example: Consider the dataset [5, 7, 9, 10, 11]. The range is calculated as 11 - 5 = 6. This means that the dataset spans a range of 6 units.\n",
    "\n",
    "2. Variance:\n",
    "The variance measures the average squared deviation of each data point from the mean. It quantifies the spread of data by considering the differences between each data point and the mean. A higher variance indicates greater variability in the dataset.\n",
    "> Example: Consider the dataset [5, 7, 9, 10, 11]. The mean of this dataset is (5+7+9+10+11)/5 = 8.4. To calculate the variance, we compute the squared difference of each data point from the mean, sum them up, and divide by the number of observations. The variance is ((5-8.4)^2 + (7-8.4)^2 + (9-8.4)^2 + (10-8.4)^2 + (11-8.4)^2)/5 = 5.04.\n",
    "\n",
    "3. Standard Deviation:\n",
    "The standard deviation is the square root of the variance. It provides a measure of the average distance between each data point and the mean. A smaller standard deviation indicates less variability and a tighter cluster of data around the mean.\n",
    ">Example: Using the same dataset as above, the variance is 5.04. Taking the square root of the variance, the standard deviation is √5.04 ≈ 2.24.\n",
    "\n"
   ]
  },
  {
   "cell_type": "markdown",
   "metadata": {},
   "source": [
    "#### Q6. What is a Venn diagram?"
   ]
  },
  {
   "cell_type": "markdown",
   "metadata": {},
   "source": [
    "\n",
    "A Venn diagram is a graphical representation that uses overlapping circles or other shapes to illustrate the relationships between different sets or groups of objects, elements, or concepts. It visually depicts the similarities, differences, and intersections between the sets being compared.\n",
    "- Circles (or other shapes): Each circle represents a set or a category. The size of the circles may vary, depending on the elements or data being compared.\n",
    "\n",
    "- Overlapping areas: The overlapping regions of the circles represent the intersections between the sets. These areas show the elements or characteristics that are shared by multiple sets.\n",
    "\n",
    "- Non-overlapping areas: The non-overlapping parts of the circles represent the elements or characteristics that are unique to each individual set."
   ]
  },
  {
   "cell_type": "markdown",
   "metadata": {},
   "source": [
    "#### Q7. For the two given sets A = (2,3,4,5,6,7) & B = (0,2,6,8,10). Find: (i) A intersection B (ii) A ⋃nion B"
   ]
  },
  {
   "cell_type": "markdown",
   "metadata": {},
   "source": [
    "- A union B: {0,2,3,4,5,6,7,8,10}\n",
    "- A intersection B: {2,6}"
   ]
  },
  {
   "cell_type": "markdown",
   "metadata": {},
   "source": [
    "#### Q8. What do you understand about skewness in data?"
   ]
  },
  {
   "cell_type": "markdown",
   "metadata": {},
   "source": [
    "- Skewness in data refers to the measure of the asymmetry or departure from symmetry in the distribution of data points. It quantifies the extent to which the data is skewed or shifted to one side of the distribution.\n",
    "\n",
    "- In a symmetrical distribution, the data is evenly distributed around the mean, and the skewness is close to zero. However, in skewed distributions, the data is not evenly distributed, and there is a longer tail on one side of the distribution.\n",
    "\n",
    "- Skewness can be categorized into three types:\n",
    "\n",
    "1. Positive Skewness (Right Skewness):\n",
    "Positive skewness occurs when the tail of the distribution extends towards higher values, pulling the mean and median towards the right side. The majority of the data points are concentrated towards the lower values.\n",
    "\n",
    "2. Negative Skewness (Left Skewness):\n",
    "Negative skewness occurs when the tail of the distribution extends towards lower values, pulling the mean and median towards the left side. The majority of the data points are concentrated towards the higher values.\n",
    "\n",
    "3. Zero Skewness:\n",
    "Zero skewness indicates a perfectly symmetrical distribution, where the mean, median, and mode coincide at the center of the distribution."
   ]
  },
  {
   "cell_type": "markdown",
   "metadata": {},
   "source": [
    "#### Q9. If a data is right skewed then what will be the position of median with respect to mean?"
   ]
  },
  {
   "cell_type": "markdown",
   "metadata": {},
   "source": [
    "Positive Skewness (Right Skewness):\n",
    "Positive skewness occurs when the tail of the distribution extends towards higher values, pulling the mean and median towards the right side. The majority of the data points are concentrated towards the lower values.\n",
    "\n",
    "- mode > median > mean"
   ]
  },
  {
   "cell_type": "markdown",
   "metadata": {},
   "source": [
    "#### Q10. Explain the difference between covariance and correlation. How are these measures used in\n",
    "statistical analysis?"
   ]
  },
  {
   "cell_type": "markdown",
   "metadata": {},
   "source": [
    "Difference between covariance and corelation :\n",
    "1. Covariance:\n",
    "Covariance measures the extent to which two variables vary together. It calculates the average of the product of the differences between corresponding values of two variables. Covariance can be positive, indicating that the variables tend to increase or decrease together, or negative, indicating an inverse relationship.\n",
    "\n",
    "- The main limitation of covariance is that its value is not standardized, making it difficult to interpret the magnitude of the relationship. Covariance is influenced by the units of measurement of the variables, which makes it challenging to compare across different datasets.\n",
    "\n",
    "2. Correlation:\n",
    "Correlation measures the strength and direction of the linear relationship between two variables. It provides a standardized measure of the relationship, which allows for easier interpretation and comparison. Correlation is always between -1 and +1, where -1 represents a perfect negative correlation, +1 represents a perfect positive correlation, and 0 represents no linear correlation.\n",
    "\n",
    "- Unlike covariance, correlation is independent of the scale or units of measurement of the variables. It focuses solely on the strength and direction of the linear relationship, making it a more robust measure for comparing relationships across different datasets.\n",
    "\n",
    "##### Usage in Statistical Analysis:\n",
    "Covariance and correlation are both used in statistical analysis to understand the relationship between variables:\n",
    "\n",
    "1. Covariance is used to determine the direction (positive or negative) and the magnitude of the relationship between two variables. It is commonly used in descriptive statistics and in assessing the joint variability between variables.\n",
    "\n",
    "2. Correlation is widely used to measure the strength and direction of the linear relationship between variables. It is utilized in inferential statistics, hypothesis testing, and regression analysis. Correlation coefficients (such as Pearson's correlation coefficient) allow for easier interpretation and comparison of the strength of relationships."
   ]
  },
  {
   "cell_type": "markdown",
   "metadata": {},
   "source": [
    "#### Q11. What is the formula for calculating the sample mean? Provide an example calculation for a\n",
    "dataset."
   ]
  },
  {
   "cell_type": "markdown",
   "metadata": {},
   "source": [
    "- mean = sum of all data points / no. of data points\n",
    "> Example :\n",
    "data = (1,2,3,4,9,7,8,5,6),\n",
    "mean = 1+2+3+4+5+6+7+8+9 / 9 = 5\n"
   ]
  },
  {
   "cell_type": "markdown",
   "metadata": {},
   "source": [
    "#### Q12. For a normal distribution data what is the relationship between its measure of central tendency?"
   ]
  },
  {
   "cell_type": "markdown",
   "metadata": {},
   "source": [
    "- Mean: In a normal distribution, the mean is located at the center of the distribution. It is equal to the median and mode, forming a symmetrical distribution. The mean represents the balancing point of the distribution where the data is evenly spread on both sides.\n",
    "\n",
    "- Median: In a normal distribution, the median is also located at the center of the distribution. It is equal to the mean and mode. As the distribution is symmetrical, the median splits the data into two equal halves, with an equal number of observations on each side.\n",
    "\n",
    "- Mode: In a normal distribution, the mode occurs at the peak or highest point of the distribution. The mode is also equal to the mean and median in a normal distribution. Since the distribution is symmetrical, there is only one mode, and it is located at the center."
   ]
  },
  {
   "cell_type": "markdown",
   "metadata": {},
   "source": [
    "#### Q13. How is covariance different from correlation?"
   ]
  },
  {
   "cell_type": "markdown",
   "metadata": {},
   "source": [
    "Covariance: \n",
    "Covariance measures how two variables vary together. It quantifies the degree to which changes in one variable are associated with changes in another variable. A positive covariance indicates a positive relationship, where both variables tend to increase or decrease together. A negative covariance indicates a negative relationship, where one variable tends to increase while the other decreases. However, the magnitude of covariance does not provide a clear indication of the strength or direction of the relationship."
   ]
  },
  {
   "cell_type": "markdown",
   "metadata": {},
   "source": [
    "#### Q14. How do outliers affect measures of central tendency and dispersion? Provide an example."
   ]
  },
  {
   "cell_type": "markdown",
   "metadata": {},
   "source": [
    "Outliers can have a significant impact on measures of central tendency and dispersion in a dataset. Here's how outliers affect these measures:\n",
    "\n",
    "- Measures of Central Tendency:\n",
    "1. Mean: Outliers can heavily influence the mean since it is sensitive to extreme values. A single outlier with a large value can pull the mean towards it, making it unrepresentative of the majority of the data. For example, consider a dataset of students' ages where all students are between 18 and 22, except for one student who is 50. The mean age would be significantly higher due to the outlier.\n",
    "\n",
    "2. Median: The median is less affected by outliers since it is not influenced by extreme values. It represents the middle value when the data is ordered. However, if an outlier is present, it can shift the median slightly. For instance, in the same age dataset, the median would still fall within the typical range since it is less influenced by the outlier.\n",
    "\n",
    "3. Mode: The mode, representing the most frequent value(s) in the dataset, is generally not affected by outliers. Outliers do not impact the mode unless they occur with a frequency that exceeds that of the other values.\n",
    "\n",
    "- Measures of Dispersion:\n",
    "1. Range: Outliers can have a substantial impact on the range since it considers the difference between the maximum and minimum values. If an outlier is present, it can increase the range significantly, making it a less reliable measure of spread.\n",
    "\n",
    "2. Variance and Standard Deviation: Both variance and standard deviation are influenced by outliers. Outliers that are far from the mean can increase their values, making them larger than they would be without the outliers. This occurs because these measures consider the squared differences from the mean, thus magnifying the effect of extreme values.\n",
    "\n",
    "3. Interquartile Range (IQR): The IQR, which measures the spread of the central 50% of the data, is less affected by outliers since it focuses on the middle 50% of the dataset. However, if outliers are present, they can extend the tails of the distribution, resulting in a wider IQR."
   ]
  }
 ],
 "metadata": {
  "kernelspec": {
   "display_name": "Python 3",
   "language": "python",
   "name": "python3"
  },
  "language_info": {
   "codemirror_mode": {
    "name": "ipython",
    "version": 3
   },
   "file_extension": ".py",
   "mimetype": "text/x-python",
   "name": "python",
   "nbconvert_exporter": "python",
   "pygments_lexer": "ipython3",
   "version": "3.11.4"
  },
  "orig_nbformat": 4
 },
 "nbformat": 4,
 "nbformat_minor": 2
}
